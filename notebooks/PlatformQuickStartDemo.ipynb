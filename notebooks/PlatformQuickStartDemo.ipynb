{
 "cells": [
  {
   "cell_type": "markdown",
   "metadata": {},
   "source": [
    "## Connect and Authenticate"
   ]
  },
  {
   "cell_type": "code",
   "execution_count": null,
   "metadata": {},
   "outputs": [],
   "source": [
    "import pokitdok"
   ]
  },
  {
   "cell_type": "code",
   "execution_count": null,
   "metadata": {},
   "outputs": [],
   "source": [
    "pd = pokitdok.api.connect('[your client id]', '[your client secret]')"
   ]
  },
  {
   "cell_type": "markdown",
   "metadata": {},
   "source": [
    "_or_"
   ]
  },
  {
   "cell_type": "code",
   "execution_count": null,
   "metadata": {},
   "outputs": [],
   "source": [
    "import os\n",
    "client_id = os.environ['POKITDOK_CLIENT_ID']\n",
    "client_secret = os.environ['POKITDOK_CLIENT_SECRET']\n",
    "pd = pokitdok.api.connect(client_id, client_secret)"
   ]
  },
  {
   "cell_type": "markdown",
   "metadata": {},
   "source": [
    "## Making API Requests"
   ]
  },
  {
   "cell_type": "code",
   "execution_count": null,
   "metadata": {},
   "outputs": [],
   "source": [
    "# a low level \"request\" method is available that allows you to have more control over the construction of the API request\n",
    "pd.request('/activities', method='get')"
   ]
  },
  {
   "cell_type": "code",
   "execution_count": null,
   "metadata": {},
   "outputs": [],
   "source": [
    "pd.request('/eligibility/', method='post', data={\n",
    "    \"member\": {\n",
    "        \"birth_date\": \"1970-01-01\",\n",
    "        \"first_name\": \"Jane\",\n",
    "        \"last_name\": \"Doe\",\n",
    "        \"id\": \"W000000000\"\n",
    "    },\n",
    "    \"trading_partner_id\": \"MOCKPAYER\"\n",
    "})"
   ]
  },
  {
   "cell_type": "code",
   "execution_count": null,
   "metadata": {},
   "outputs": [],
   "source": [
    "# Convenience methods are available for the commonly used http methods built around the request method\n",
    "pd.get('/activities')"
   ]
  },
  {
   "cell_type": "code",
   "execution_count": null,
   "metadata": {},
   "outputs": [],
   "source": [
    "pd.post('/eligibility/', data={\n",
    "    \"member\": {\n",
    "        \"birth_date\": \"1970-01-01\",\n",
    "        \"first_name\": \"Jane\",\n",
    "        \"last_name\": \"Doe\",\n",
    "        \"id\": \"W000000000\"\n",
    "    },\n",
    "    \"trading_partner_id\": \"MOCKPAYER\"\n",
    "})"
   ]
  },
  {
   "cell_type": "code",
   "execution_count": null,
   "metadata": {},
   "outputs": [],
   "source": [
    "# higher level functions are also available to access the APIs\n",
    "pd.activities()"
   ]
  },
  {
   "cell_type": "code",
   "execution_count": null,
   "metadata": {},
   "outputs": [],
   "source": [
    "pd.eligibility({\n",
    "    \"member\": {\n",
    "        \"birth_date\": \"1970-01-01\",\n",
    "        \"first_name\": \"Jane\",\n",
    "        \"last_name\": \"Doe\",\n",
    "        \"id\": \"W000000000\"\n",
    "    },\n",
    "    \"trading_partner_id\": \"MOCKPAYER\"\n",
    "})"
   ]
  },
  {
   "cell_type": "markdown",
   "metadata": {},
   "source": [
    "## Data APIs"
   ]
  },
  {
   "cell_type": "markdown",
   "metadata": {},
   "source": [
    "### Claims Convert"
   ]
  },
  {
   "cell_type": "code",
   "execution_count": null,
   "metadata": {},
   "outputs": [],
   "source": [
    "#convert existing claims in a X12 837 file to claims request JSON.  ICD-9 codes are converted to ICD-10\n",
    "pd.claims_convert('/path/to/my_claims.837')"
   ]
  },
  {
   "cell_type": "markdown",
   "metadata": {},
   "source": [
    "### Insurance Prices"
   ]
  },
  {
   "cell_type": "code",
   "execution_count": null,
   "metadata": {},
   "outputs": [],
   "source": [
    "#retrieve insurance price information by zip and CPT code\n",
    "pd.insurance_prices(zip_code='32218', cpt_code='87799')"
   ]
  },
  {
   "cell_type": "markdown",
   "metadata": {},
   "source": [
    "### Medical Procedure Code (MPC)"
   ]
  },
  {
   "cell_type": "code",
   "execution_count": null,
   "metadata": {},
   "outputs": [],
   "source": [
    "pd.mpc(code='99213')"
   ]
  },
  {
   "cell_type": "markdown",
   "metadata": {},
   "source": [
    "## X12 APIs"
   ]
  },
  {
   "cell_type": "markdown",
   "metadata": {},
   "source": [
    "### Eligibility"
   ]
  },
  {
   "cell_type": "code",
   "execution_count": null,
   "metadata": {},
   "outputs": [],
   "source": [
    "pd.eligibility({\n",
    "    \"member\": {\n",
    "        \"birth_date\": \"1970-01-01\",\n",
    "        \"first_name\": \"Jane\",\n",
    "        \"last_name\": \"Doe\",\n",
    "        \"id\": \"W000000000\"\n",
    "    },\n",
    "    \"trading_partner_id\": \"MOCKPAYER\"\n",
    "})"
   ]
  },
  {
   "cell_type": "code",
   "execution_count": null,
   "metadata": {},
   "outputs": [],
   "source": [
    "pd.eligibility({\n",
    "    \"member\": {\n",
    "        \"birth_date\": \"1970-01-01\",\n",
    "        \"first_name\": \"Jane\",\n",
    "        \"last_name\": \"Doe\",\n",
    "        \"id\": \"W000000000\"\n",
    "    },\n",
    "    \"provider\": {\n",
    "        \"first_name\": \"JEROME\",\n",
    "        \"last_name\": \"AYA-AY\",\n",
    "        \"npi\": \"1467560003\"\n",
    "    },\n",
    "    \"service_types\": [\"health_benefit_plan_coverage\"],\n",
    "    \"trading_partner_id\": \"MOCKPAYER\"\n",
    "})"
   ]
  },
  {
   "cell_type": "markdown",
   "metadata": {},
   "source": [
    "### Claims"
   ]
  },
  {
   "cell_type": "code",
   "execution_count": null,
   "metadata": {},
   "outputs": [],
   "source": [
    "pd.claims({\n",
    "    \"transaction_code\": \"chargeable\",\n",
    "    \"trading_partner_id\": \"MOCKPAYER\",\n",
    "    \"billing_provider\": {\n",
    "        \"taxonomy_code\": \"207Q00000X\",\n",
    "        \"first_name\": \"Jerome\",\n",
    "        \"last_name\": \"Aya-Ay\",\n",
    "        \"npi\": \"1467560003\",\n",
    "        \"address\": {\n",
    "            \"address_lines\": [\n",
    "                \"8311 WARREN H ABERNATHY HWY\"\n",
    "            ],\n",
    "            \"city\": \"SPARTANBURG\",\n",
    "            \"state\": \"SC\",\n",
    "            \"zipcode\": \"29301\"\n",
    "        },\n",
    "        \"tax_id\": \"123456789\"\n",
    "    },\n",
    "    \"subscriber\": {\n",
    "        \"first_name\": \"Jane\",\n",
    "        \"last_name\": \"Doe\",\n",
    "        \"member_id\": \"W000000000\",\n",
    "        \"address\": {\n",
    "            \"address_lines\": [\"123 N MAIN ST\"],\n",
    "            \"city\": \"SPARTANBURG\",\n",
    "            \"state\": \"SC\",\n",
    "            \"zipcode\": \"29301\"\n",
    "        },\n",
    "        \"birth_date\": \"1970-01-01\",\n",
    "        \"gender\": \"female\"\n",
    "    },\n",
    "    \"claim\": {\n",
    "        \"total_charge_amount\": 60.0,\n",
    "        \"service_lines\": [\n",
    "            {\n",
    "                \"procedure_code\": \"99213\",\n",
    "                \"charge_amount\": 60.0,\n",
    "                \"unit_count\": 1.0,\n",
    "                \"diagnosis_codes\": [\n",
    "                    \"487.1\"\n",
    "                ],\n",
    "                \"service_date\": \"2014-06-01\"\n",
    "            }\n",
    "        ]\n",
    "    }\n",
    "})"
   ]
  },
  {
   "cell_type": "markdown",
   "metadata": {},
   "source": [
    "### Claims Status"
   ]
  },
  {
   "cell_type": "code",
   "execution_count": null,
   "metadata": {},
   "outputs": [],
   "source": [
    "#Check the status of a claim\n",
    "pd.claims_status({\n",
    "    \"patient\": {\n",
    "        \"birth_date\": \"1970-01-01\",\n",
    "        \"first_name\": \"JANE\",\n",
    "        \"last_name\": \"DOE\",\n",
    "        \"id\": \"1234567890\"\n",
    "    },\n",
    "    \"provider\": {\n",
    "        \"first_name\": \"Jerome\",\n",
    "        \"last_name\": \"Aya-Ay\",\n",
    "        \"npi\": \"1467560003\",\n",
    "    },\n",
    "    \"service_date\": \"2014-01-01\",\n",
    "    \"trading_partner_id\": \"MOCKPAYER\"\n",
    "})"
   ]
  },
  {
   "cell_type": "markdown",
   "metadata": {
    "collapsed": true
   },
   "source": [
    "## Utility APIs"
   ]
  },
  {
   "cell_type": "markdown",
   "metadata": {},
   "source": [
    "### Activities"
   ]
  },
  {
   "cell_type": "code",
   "execution_count": null,
   "metadata": {},
   "outputs": [],
   "source": [
    "#Check on platform activities\n",
    "#check on a specific activity\n",
    "pd.activities(activity_id='[one of your activity ids]')"
   ]
  },
  {
   "cell_type": "code",
   "execution_count": null,
   "metadata": {},
   "outputs": [],
   "source": [
    "#retrieve an index of your application's activities\n",
    "pd.activities()"
   ]
  },
  {
   "cell_type": "code",
   "execution_count": null,
   "metadata": {},
   "outputs": [],
   "source": [
    "#check on a batch of activities (useful to track the results of APIs like X12 files, Claims Convert, etc.)\n",
    "pd.activities(parent_id='[one of your parent activity ids]')"
   ]
  },
  {
   "cell_type": "markdown",
   "metadata": {},
   "source": [
    "### Trading Partners"
   ]
  },
  {
   "cell_type": "code",
   "execution_count": null,
   "metadata": {},
   "outputs": [],
   "source": [
    "#retrieve a specific trading_partner\n",
    "pd.trading_partners(\"MOCKPAYER\")"
   ]
  }
 ],
 "metadata": {
  "kernelspec": {
   "display_name": "Python 3",
   "language": "python",
   "name": "python3"
  },
  "language_info": {
   "codemirror_mode": {
    "name": "ipython",
    "version": 3
   },
   "file_extension": ".py",
   "mimetype": "text/x-python",
   "name": "python",
   "nbconvert_exporter": "python",
   "pygments_lexer": "ipython3",
   "version": "3.7.2"
  }
 },
 "nbformat": 4,
 "nbformat_minor": 1
}
